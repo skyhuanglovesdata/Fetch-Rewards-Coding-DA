{
 "cells": [
  {
   "cell_type": "markdown",
   "id": "0d87853b",
   "metadata": {},
   "source": [
    "### Fetch Rewards Coding Exercise - Data Analyst - Part III\n",
    "  - Xiangyu Huang \n",
    "  - Sep 28th, 2022"
   ]
  },
  {
   "cell_type": "code",
   "execution_count": 1,
   "id": "eaa9f2a4",
   "metadata": {},
   "outputs": [],
   "source": [
    "import pandas as pd\n",
    "import json\n",
    "from datetime import datetime"
   ]
  },
  {
   "cell_type": "code",
   "execution_count": 2,
   "id": "56698ed3",
   "metadata": {},
   "outputs": [],
   "source": [
    "receipts = pd.read_json('receipts.json',lines = True)\n",
    "users = pd.read_json('users.json', lines = True)\n",
    "brands = pd.read_json('brands.json', lines = True)"
   ]
  },
  {
   "cell_type": "code",
   "execution_count": 3,
   "id": "378f8c56",
   "metadata": {},
   "outputs": [
    {
     "data": {
      "text/html": [
       "<div>\n",
       "<style scoped>\n",
       "    .dataframe tbody tr th:only-of-type {\n",
       "        vertical-align: middle;\n",
       "    }\n",
       "\n",
       "    .dataframe tbody tr th {\n",
       "        vertical-align: top;\n",
       "    }\n",
       "\n",
       "    .dataframe thead th {\n",
       "        text-align: right;\n",
       "    }\n",
       "</style>\n",
       "<table border=\"1\" class=\"dataframe\">\n",
       "  <thead>\n",
       "    <tr style=\"text-align: right;\">\n",
       "      <th></th>\n",
       "      <th>_id</th>\n",
       "      <th>bonusPointsEarned</th>\n",
       "      <th>bonusPointsEarnedReason</th>\n",
       "      <th>createDate</th>\n",
       "      <th>dateScanned</th>\n",
       "      <th>finishedDate</th>\n",
       "      <th>modifyDate</th>\n",
       "      <th>pointsAwardedDate</th>\n",
       "      <th>pointsEarned</th>\n",
       "      <th>purchaseDate</th>\n",
       "      <th>purchasedItemCount</th>\n",
       "      <th>rewardsReceiptItemList</th>\n",
       "      <th>rewardsReceiptStatus</th>\n",
       "      <th>totalSpent</th>\n",
       "      <th>userId</th>\n",
       "    </tr>\n",
       "  </thead>\n",
       "  <tbody>\n",
       "    <tr>\n",
       "      <th>0</th>\n",
       "      <td>{'$oid': '5ff1e1eb0a720f0523000575'}</td>\n",
       "      <td>500.0</td>\n",
       "      <td>Receipt number 2 completed, bonus point schedu...</td>\n",
       "      <td>{'$date': 1609687531000}</td>\n",
       "      <td>{'$date': 1609687531000}</td>\n",
       "      <td>{'$date': 1609687531000}</td>\n",
       "      <td>{'$date': 1609687536000}</td>\n",
       "      <td>{'$date': 1609687531000}</td>\n",
       "      <td>500.0</td>\n",
       "      <td>{'$date': 1609632000000}</td>\n",
       "      <td>5.0</td>\n",
       "      <td>[{'barcode': '4011', 'description': 'ITEM NOT ...</td>\n",
       "      <td>FINISHED</td>\n",
       "      <td>26.0</td>\n",
       "      <td>5ff1e1eacfcf6c399c274ae6</td>\n",
       "    </tr>\n",
       "    <tr>\n",
       "      <th>1</th>\n",
       "      <td>{'$oid': '5ff1e1bb0a720f052300056b'}</td>\n",
       "      <td>150.0</td>\n",
       "      <td>Receipt number 5 completed, bonus point schedu...</td>\n",
       "      <td>{'$date': 1609687483000}</td>\n",
       "      <td>{'$date': 1609687483000}</td>\n",
       "      <td>{'$date': 1609687483000}</td>\n",
       "      <td>{'$date': 1609687488000}</td>\n",
       "      <td>{'$date': 1609687483000}</td>\n",
       "      <td>150.0</td>\n",
       "      <td>{'$date': 1609601083000}</td>\n",
       "      <td>2.0</td>\n",
       "      <td>[{'barcode': '4011', 'description': 'ITEM NOT ...</td>\n",
       "      <td>FINISHED</td>\n",
       "      <td>11.0</td>\n",
       "      <td>5ff1e194b6a9d73a3a9f1052</td>\n",
       "    </tr>\n",
       "    <tr>\n",
       "      <th>2</th>\n",
       "      <td>{'$oid': '5ff1e1f10a720f052300057a'}</td>\n",
       "      <td>5.0</td>\n",
       "      <td>All-receipts receipt bonus</td>\n",
       "      <td>{'$date': 1609687537000}</td>\n",
       "      <td>{'$date': 1609687537000}</td>\n",
       "      <td>NaN</td>\n",
       "      <td>{'$date': 1609687542000}</td>\n",
       "      <td>NaN</td>\n",
       "      <td>5.0</td>\n",
       "      <td>{'$date': 1609632000000}</td>\n",
       "      <td>1.0</td>\n",
       "      <td>[{'needsFetchReview': False, 'partnerItemId': ...</td>\n",
       "      <td>REJECTED</td>\n",
       "      <td>10.0</td>\n",
       "      <td>5ff1e1f1cfcf6c399c274b0b</td>\n",
       "    </tr>\n",
       "  </tbody>\n",
       "</table>\n",
       "</div>"
      ],
      "text/plain": [
       "                                    _id  bonusPointsEarned  \\\n",
       "0  {'$oid': '5ff1e1eb0a720f0523000575'}              500.0   \n",
       "1  {'$oid': '5ff1e1bb0a720f052300056b'}              150.0   \n",
       "2  {'$oid': '5ff1e1f10a720f052300057a'}                5.0   \n",
       "\n",
       "                             bonusPointsEarnedReason  \\\n",
       "0  Receipt number 2 completed, bonus point schedu...   \n",
       "1  Receipt number 5 completed, bonus point schedu...   \n",
       "2                         All-receipts receipt bonus   \n",
       "\n",
       "                 createDate               dateScanned  \\\n",
       "0  {'$date': 1609687531000}  {'$date': 1609687531000}   \n",
       "1  {'$date': 1609687483000}  {'$date': 1609687483000}   \n",
       "2  {'$date': 1609687537000}  {'$date': 1609687537000}   \n",
       "\n",
       "               finishedDate                modifyDate  \\\n",
       "0  {'$date': 1609687531000}  {'$date': 1609687536000}   \n",
       "1  {'$date': 1609687483000}  {'$date': 1609687488000}   \n",
       "2                       NaN  {'$date': 1609687542000}   \n",
       "\n",
       "          pointsAwardedDate  pointsEarned              purchaseDate  \\\n",
       "0  {'$date': 1609687531000}         500.0  {'$date': 1609632000000}   \n",
       "1  {'$date': 1609687483000}         150.0  {'$date': 1609601083000}   \n",
       "2                       NaN           5.0  {'$date': 1609632000000}   \n",
       "\n",
       "   purchasedItemCount                             rewardsReceiptItemList  \\\n",
       "0                 5.0  [{'barcode': '4011', 'description': 'ITEM NOT ...   \n",
       "1                 2.0  [{'barcode': '4011', 'description': 'ITEM NOT ...   \n",
       "2                 1.0  [{'needsFetchReview': False, 'partnerItemId': ...   \n",
       "\n",
       "  rewardsReceiptStatus  totalSpent                    userId  \n",
       "0             FINISHED        26.0  5ff1e1eacfcf6c399c274ae6  \n",
       "1             FINISHED        11.0  5ff1e194b6a9d73a3a9f1052  \n",
       "2             REJECTED        10.0  5ff1e1f1cfcf6c399c274b0b  "
      ]
     },
     "execution_count": 3,
     "metadata": {},
     "output_type": "execute_result"
    }
   ],
   "source": [
    "receipts.head(3)"
   ]
  },
  {
   "cell_type": "code",
   "execution_count": 4,
   "id": "8e3a3c24",
   "metadata": {},
   "outputs": [
    {
     "data": {
      "text/plain": [
       "1119"
      ]
     },
     "execution_count": 4,
     "metadata": {},
     "output_type": "execute_result"
    }
   ],
   "source": [
    "len(receipts)"
   ]
  },
  {
   "cell_type": "code",
   "execution_count": 5,
   "id": "1894c7fc",
   "metadata": {},
   "outputs": [
    {
     "data": {
      "text/html": [
       "<div>\n",
       "<style scoped>\n",
       "    .dataframe tbody tr th:only-of-type {\n",
       "        vertical-align: middle;\n",
       "    }\n",
       "\n",
       "    .dataframe tbody tr th {\n",
       "        vertical-align: top;\n",
       "    }\n",
       "\n",
       "    .dataframe thead th {\n",
       "        text-align: right;\n",
       "    }\n",
       "</style>\n",
       "<table border=\"1\" class=\"dataframe\">\n",
       "  <thead>\n",
       "    <tr style=\"text-align: right;\">\n",
       "      <th></th>\n",
       "      <th>_id</th>\n",
       "      <th>barcode</th>\n",
       "      <th>category</th>\n",
       "      <th>categoryCode</th>\n",
       "      <th>cpg</th>\n",
       "      <th>name</th>\n",
       "      <th>topBrand</th>\n",
       "      <th>brandCode</th>\n",
       "    </tr>\n",
       "  </thead>\n",
       "  <tbody>\n",
       "    <tr>\n",
       "      <th>0</th>\n",
       "      <td>{'$oid': '601ac115be37ce2ead437551'}</td>\n",
       "      <td>511111019862</td>\n",
       "      <td>Baking</td>\n",
       "      <td>BAKING</td>\n",
       "      <td>{'$id': {'$oid': '601ac114be37ce2ead437550'}, ...</td>\n",
       "      <td>test brand @1612366101024</td>\n",
       "      <td>0.0</td>\n",
       "      <td>NaN</td>\n",
       "    </tr>\n",
       "    <tr>\n",
       "      <th>1</th>\n",
       "      <td>{'$oid': '601c5460be37ce2ead43755f'}</td>\n",
       "      <td>511111519928</td>\n",
       "      <td>Beverages</td>\n",
       "      <td>BEVERAGES</td>\n",
       "      <td>{'$id': {'$oid': '5332f5fbe4b03c9a25efd0ba'}, ...</td>\n",
       "      <td>Starbucks</td>\n",
       "      <td>0.0</td>\n",
       "      <td>STARBUCKS</td>\n",
       "    </tr>\n",
       "    <tr>\n",
       "      <th>2</th>\n",
       "      <td>{'$oid': '601ac142be37ce2ead43755d'}</td>\n",
       "      <td>511111819905</td>\n",
       "      <td>Baking</td>\n",
       "      <td>BAKING</td>\n",
       "      <td>{'$id': {'$oid': '601ac142be37ce2ead437559'}, ...</td>\n",
       "      <td>test brand @1612366146176</td>\n",
       "      <td>0.0</td>\n",
       "      <td>TEST BRANDCODE @1612366146176</td>\n",
       "    </tr>\n",
       "  </tbody>\n",
       "</table>\n",
       "</div>"
      ],
      "text/plain": [
       "                                    _id       barcode   category categoryCode  \\\n",
       "0  {'$oid': '601ac115be37ce2ead437551'}  511111019862     Baking       BAKING   \n",
       "1  {'$oid': '601c5460be37ce2ead43755f'}  511111519928  Beverages    BEVERAGES   \n",
       "2  {'$oid': '601ac142be37ce2ead43755d'}  511111819905     Baking       BAKING   \n",
       "\n",
       "                                                 cpg  \\\n",
       "0  {'$id': {'$oid': '601ac114be37ce2ead437550'}, ...   \n",
       "1  {'$id': {'$oid': '5332f5fbe4b03c9a25efd0ba'}, ...   \n",
       "2  {'$id': {'$oid': '601ac142be37ce2ead437559'}, ...   \n",
       "\n",
       "                        name  topBrand                      brandCode  \n",
       "0  test brand @1612366101024       0.0                            NaN  \n",
       "1                  Starbucks       0.0                      STARBUCKS  \n",
       "2  test brand @1612366146176       0.0  TEST BRANDCODE @1612366146176  "
      ]
     },
     "execution_count": 5,
     "metadata": {},
     "output_type": "execute_result"
    }
   ],
   "source": [
    "brands.head(3)"
   ]
  },
  {
   "cell_type": "code",
   "execution_count": 6,
   "id": "f9292de2",
   "metadata": {},
   "outputs": [
    {
     "data": {
      "text/plain": [
       "1167"
      ]
     },
     "execution_count": 6,
     "metadata": {},
     "output_type": "execute_result"
    }
   ],
   "source": [
    "len(brands)"
   ]
  },
  {
   "cell_type": "code",
   "execution_count": 7,
   "id": "1a404b95",
   "metadata": {},
   "outputs": [
    {
     "data": {
      "text/html": [
       "<div>\n",
       "<style scoped>\n",
       "    .dataframe tbody tr th:only-of-type {\n",
       "        vertical-align: middle;\n",
       "    }\n",
       "\n",
       "    .dataframe tbody tr th {\n",
       "        vertical-align: top;\n",
       "    }\n",
       "\n",
       "    .dataframe thead th {\n",
       "        text-align: right;\n",
       "    }\n",
       "</style>\n",
       "<table border=\"1\" class=\"dataframe\">\n",
       "  <thead>\n",
       "    <tr style=\"text-align: right;\">\n",
       "      <th></th>\n",
       "      <th>_id</th>\n",
       "      <th>active</th>\n",
       "      <th>createdDate</th>\n",
       "      <th>lastLogin</th>\n",
       "      <th>role</th>\n",
       "      <th>signUpSource</th>\n",
       "      <th>state</th>\n",
       "    </tr>\n",
       "  </thead>\n",
       "  <tbody>\n",
       "    <tr>\n",
       "      <th>0</th>\n",
       "      <td>{'$oid': '5ff1e194b6a9d73a3a9f1052'}</td>\n",
       "      <td>True</td>\n",
       "      <td>{'$date': 1609687444800}</td>\n",
       "      <td>{'$date': 1609687537858}</td>\n",
       "      <td>consumer</td>\n",
       "      <td>Email</td>\n",
       "      <td>WI</td>\n",
       "    </tr>\n",
       "    <tr>\n",
       "      <th>1</th>\n",
       "      <td>{'$oid': '5ff1e194b6a9d73a3a9f1052'}</td>\n",
       "      <td>True</td>\n",
       "      <td>{'$date': 1609687444800}</td>\n",
       "      <td>{'$date': 1609687537858}</td>\n",
       "      <td>consumer</td>\n",
       "      <td>Email</td>\n",
       "      <td>WI</td>\n",
       "    </tr>\n",
       "    <tr>\n",
       "      <th>2</th>\n",
       "      <td>{'$oid': '5ff1e194b6a9d73a3a9f1052'}</td>\n",
       "      <td>True</td>\n",
       "      <td>{'$date': 1609687444800}</td>\n",
       "      <td>{'$date': 1609687537858}</td>\n",
       "      <td>consumer</td>\n",
       "      <td>Email</td>\n",
       "      <td>WI</td>\n",
       "    </tr>\n",
       "  </tbody>\n",
       "</table>\n",
       "</div>"
      ],
      "text/plain": [
       "                                    _id  active               createdDate  \\\n",
       "0  {'$oid': '5ff1e194b6a9d73a3a9f1052'}    True  {'$date': 1609687444800}   \n",
       "1  {'$oid': '5ff1e194b6a9d73a3a9f1052'}    True  {'$date': 1609687444800}   \n",
       "2  {'$oid': '5ff1e194b6a9d73a3a9f1052'}    True  {'$date': 1609687444800}   \n",
       "\n",
       "                  lastLogin      role signUpSource state  \n",
       "0  {'$date': 1609687537858}  consumer        Email    WI  \n",
       "1  {'$date': 1609687537858}  consumer        Email    WI  \n",
       "2  {'$date': 1609687537858}  consumer        Email    WI  "
      ]
     },
     "execution_count": 7,
     "metadata": {},
     "output_type": "execute_result"
    }
   ],
   "source": [
    "users.head(3)"
   ]
  },
  {
   "cell_type": "code",
   "execution_count": 8,
   "id": "d96089ba",
   "metadata": {},
   "outputs": [
    {
     "data": {
      "text/plain": [
       "495"
      ]
     },
     "execution_count": 8,
     "metadata": {},
     "output_type": "execute_result"
    }
   ],
   "source": [
    "len(users)"
   ]
  },
  {
   "cell_type": "markdown",
   "id": "9fc39504",
   "metadata": {},
   "source": [
    " "
   ]
  },
  {
   "cell_type": "markdown",
   "id": "3f85b7ac",
   "metadata": {},
   "source": [
    "- **Some quick and easy clean up by implementing lambda function to get rid of the object identifier(oid) symbols for both user's _id and brands _id**\n"
   ]
  },
  {
   "cell_type": "code",
   "execution_count": 9,
   "id": "ccedd8ea",
   "metadata": {},
   "outputs": [],
   "source": [
    "receipts['receipt_id'] = receipts['_id'].apply(lambda row : row['$oid'])\n",
    "users['user_id'] = users['_id'].apply(lambda row : row['$oid'])\n",
    "brands['brand_id'] = brands['_id'].apply(lambda row : row['$oid'])"
   ]
  },
  {
   "cell_type": "markdown",
   "id": "5808be98",
   "metadata": {},
   "source": [
    "####  Data Quality Examine for the Receipt Table:\n",
    "     - Check if there is any null values for the key columns such as receipts_id and userId.\n",
    "     - Check if there is any duplicate receipts id.\n",
    "     - Check if all the userId are in the users table, and identify the receipts when its userId doens't have match for the User Table's user_id."
   ]
  },
  {
   "cell_type": "code",
   "execution_count": 10,
   "id": "7f583e48",
   "metadata": {},
   "outputs": [
    {
     "data": {
      "text/plain": [
       "0"
      ]
     },
     "execution_count": 10,
     "metadata": {},
     "output_type": "execute_result"
    }
   ],
   "source": [
    "receipts['receipt_id'].isnull().sum()  ## no null value for receipts id"
   ]
  },
  {
   "cell_type": "code",
   "execution_count": 11,
   "id": "87e5a94c",
   "metadata": {},
   "outputs": [
    {
     "data": {
      "text/plain": [
       "0"
      ]
     },
     "execution_count": 11,
     "metadata": {},
     "output_type": "execute_result"
    }
   ],
   "source": [
    "receipts['userId'].isnull().sum()  ## no null value for userID"
   ]
  },
  {
   "cell_type": "code",
   "execution_count": 12,
   "id": "ec74e9c7",
   "metadata": {},
   "outputs": [
    {
     "data": {
      "text/plain": [
       "receipt_id\n",
       "5f9c74f70a7214ad07000037    1\n",
       "601c27870a720f05f400029e    1\n",
       "601c540f0a720f05f40002be    1\n",
       "601c40230a720f05f40002b5    1\n",
       "601c2d630a7214ad280002a7    1\n",
       "                           ..\n",
       "60088a460a720f05fa0000d5    1\n",
       "60088a490a720f05fa0000d6    1\n",
       "60088a4a0a7214ad890000c5    1\n",
       "60088a4d0a7214ad890000c7    1\n",
       "603d760e0a720fde1000048e    1\n",
       "Length: 1119, dtype: int64"
      ]
     },
     "execution_count": 12,
     "metadata": {},
     "output_type": "execute_result"
    }
   ],
   "source": [
    "receipts.groupby('receipt_id').size().sort_values(ascending = False)  ## all the receipt_id are unique."
   ]
  },
  {
   "cell_type": "code",
   "execution_count": 13,
   "id": "b51de1e8",
   "metadata": {},
   "outputs": [
    {
     "data": {
      "text/html": [
       "<div>\n",
       "<style scoped>\n",
       "    .dataframe tbody tr th:only-of-type {\n",
       "        vertical-align: middle;\n",
       "    }\n",
       "\n",
       "    .dataframe tbody tr th {\n",
       "        vertical-align: top;\n",
       "    }\n",
       "\n",
       "    .dataframe thead th {\n",
       "        text-align: right;\n",
       "    }\n",
       "</style>\n",
       "<table border=\"1\" class=\"dataframe\">\n",
       "  <thead>\n",
       "    <tr style=\"text-align: right;\">\n",
       "      <th></th>\n",
       "      <th>receipt_id</th>\n",
       "      <th>userId</th>\n",
       "    </tr>\n",
       "  </thead>\n",
       "  <tbody>\n",
       "    <tr>\n",
       "      <th>13</th>\n",
       "      <td>5f9c74f70a7214ad07000037</td>\n",
       "      <td>5f9c74f7c88c1415cbddb839</td>\n",
       "    </tr>\n",
       "    <tr>\n",
       "      <th>15</th>\n",
       "      <td>5ff1e1e90a7214ada1000569</td>\n",
       "      <td>5ff1e1e9b6a9d73a3a9f10f6</td>\n",
       "    </tr>\n",
       "    <tr>\n",
       "      <th>16</th>\n",
       "      <td>5ff1e1df0a7214ada1000564</td>\n",
       "      <td>5ff1e1dfcfcf6c399c274ab3</td>\n",
       "    </tr>\n",
       "    <tr>\n",
       "      <th>20</th>\n",
       "      <td>5f9c74f90a7214ad07000038</td>\n",
       "      <td>5f9c74e3f1937815bd2c1d73</td>\n",
       "    </tr>\n",
       "    <tr>\n",
       "      <th>21</th>\n",
       "      <td>5ff1e1960a720f0523000567</td>\n",
       "      <td>5ff1e196cfcf6c399c274a38</td>\n",
       "    </tr>\n",
       "    <tr>\n",
       "      <th>...</th>\n",
       "      <td>...</td>\n",
       "      <td>...</td>\n",
       "    </tr>\n",
       "    <tr>\n",
       "      <th>955</th>\n",
       "      <td>602538740a7214d8e9000246</td>\n",
       "      <td>60253861efa6017a44dc6b50</td>\n",
       "    </tr>\n",
       "    <tr>\n",
       "      <th>956</th>\n",
       "      <td>602538920a720f05a8000216</td>\n",
       "      <td>60253891b54593795bf69242</td>\n",
       "    </tr>\n",
       "    <tr>\n",
       "      <th>966</th>\n",
       "      <td>602538960a720f05a800021b</td>\n",
       "      <td>60253891b54593795bf69242</td>\n",
       "    </tr>\n",
       "    <tr>\n",
       "      <th>985</th>\n",
       "      <td>60268c7e0a7214d8e9000309</td>\n",
       "      <td>60268c7bb545931ac63683af</td>\n",
       "    </tr>\n",
       "    <tr>\n",
       "      <th>990</th>\n",
       "      <td>60268c790a7214d8e9000306</td>\n",
       "      <td>60268c78efa6011bb151077d</td>\n",
       "    </tr>\n",
       "  </tbody>\n",
       "</table>\n",
       "<p>148 rows × 2 columns</p>\n",
       "</div>"
      ],
      "text/plain": [
       "                   receipt_id                    userId\n",
       "13   5f9c74f70a7214ad07000037  5f9c74f7c88c1415cbddb839\n",
       "15   5ff1e1e90a7214ada1000569  5ff1e1e9b6a9d73a3a9f10f6\n",
       "16   5ff1e1df0a7214ada1000564  5ff1e1dfcfcf6c399c274ab3\n",
       "20   5f9c74f90a7214ad07000038  5f9c74e3f1937815bd2c1d73\n",
       "21   5ff1e1960a720f0523000567  5ff1e196cfcf6c399c274a38\n",
       "..                        ...                       ...\n",
       "955  602538740a7214d8e9000246  60253861efa6017a44dc6b50\n",
       "956  602538920a720f05a8000216  60253891b54593795bf69242\n",
       "966  602538960a720f05a800021b  60253891b54593795bf69242\n",
       "985  60268c7e0a7214d8e9000309  60268c7bb545931ac63683af\n",
       "990  60268c790a7214d8e9000306  60268c78efa6011bb151077d\n",
       "\n",
       "[148 rows x 2 columns]"
      ]
     },
     "execution_count": 13,
     "metadata": {},
     "output_type": "execute_result"
    }
   ],
   "source": [
    "receipts.loc[receipts['userId'].isin(users['user_id']) == False, ['receipt_id', 'userId']] \n",
    "## where receipt table's userID doesn't match with the user table's user_id."
   ]
  },
  {
   "cell_type": "markdown",
   "id": "80a94b5d",
   "metadata": {},
   "source": [
    "####  Data Quality Examine for the Users dataset\n",
    "     - Check if there is any missing values for primary key user_id\n",
    "     - Check if there is any duplicate user_id and identify them\n"
   ]
  },
  {
   "cell_type": "code",
   "execution_count": 14,
   "id": "1071a06a",
   "metadata": {},
   "outputs": [
    {
     "data": {
      "text/plain": [
       "0"
      ]
     },
     "execution_count": 14,
     "metadata": {},
     "output_type": "execute_result"
    }
   ],
   "source": [
    "users['user_id'].isnull().sum()  ## no null value for key user_id"
   ]
  },
  {
   "cell_type": "code",
   "execution_count": 15,
   "id": "54482a61",
   "metadata": {},
   "outputs": [
    {
     "data": {
      "text/plain": [
       "283"
      ]
     },
     "execution_count": 15,
     "metadata": {},
     "output_type": "execute_result"
    }
   ],
   "source": [
    "users['user_id'].duplicated().sum() ## duplicate results"
   ]
  },
  {
   "cell_type": "code",
   "execution_count": 16,
   "id": "d95a56c4",
   "metadata": {},
   "outputs": [
    {
     "data": {
      "text/plain": [
       "user_id\n",
       "54943462e4b07e684157a532    20\n",
       "5fc961c3b8cfca11a077dd33    20\n",
       "5fa41775898c7a11a6bcef3e    18\n",
       "59c124bae4b0299e55b0f330    18\n",
       "5ff5d15aeb7c7d12096d91a2    18\n",
       "                            ..\n",
       "5ff3711e62fde912123a620e     1\n",
       "60074883325c8a1794622a12     1\n",
       "60074b996e64691717e8f11a     1\n",
       "60083a1e325c8a17946255de     1\n",
       "60268c7aefa6011bb1510786     1\n",
       "Length: 212, dtype: int64"
      ]
     },
     "execution_count": 16,
     "metadata": {},
     "output_type": "execute_result"
    }
   ],
   "source": [
    "user_cnt = users.groupby('user_id').size().sort_values(ascending = False)\n",
    "user_cnt"
   ]
  },
  {
   "cell_type": "code",
   "execution_count": 17,
   "id": "0e384b2d",
   "metadata": {},
   "outputs": [
    {
     "data": {
      "text/plain": [
       "1      5ff1e194b6a9d73a3a9f1052\n",
       "2      5ff1e194b6a9d73a3a9f1052\n",
       "4      5ff1e194b6a9d73a3a9f1052\n",
       "5      5ff1e194b6a9d73a3a9f1052\n",
       "8      5ff1e194b6a9d73a3a9f1052\n",
       "                 ...           \n",
       "490    54943462e4b07e684157a532\n",
       "491    54943462e4b07e684157a532\n",
       "492    54943462e4b07e684157a532\n",
       "493    54943462e4b07e684157a532\n",
       "494    54943462e4b07e684157a532\n",
       "Name: user_id, Length: 283, dtype: object"
      ]
     },
     "execution_count": 17,
     "metadata": {},
     "output_type": "execute_result"
    }
   ],
   "source": [
    "users.loc[users['user_id'].duplicated() == True, 'user_id']"
   ]
  },
  {
   "cell_type": "code",
   "execution_count": 18,
   "id": "4458811c",
   "metadata": {},
   "outputs": [
    {
     "data": {
      "text/plain": [
       "user_id\n",
       "54943462e4b07e684157a532    20\n",
       "5fc961c3b8cfca11a077dd33    20\n",
       "5fa41775898c7a11a6bcef3e    18\n",
       "59c124bae4b0299e55b0f330    18\n",
       "5ff5d15aeb7c7d12096d91a2    18\n",
       "                            ..\n",
       "5ff873ddb3348b11c9337733     2\n",
       "60229990b57b8a12187fe9e0     2\n",
       "60074b49325c8a1794623876     2\n",
       "6002541ae257124ec6b99a3a     2\n",
       "5ff8da28b3348b11c9337ac6     2\n",
       "Length: 70, dtype: int64"
      ]
     },
     "execution_count": 18,
     "metadata": {},
     "output_type": "execute_result"
    }
   ],
   "source": [
    "for i in range(user_cnt.size):\n",
    "    if user_cnt[i] == 1:\n",
    "        endidx = i\n",
    "        break;\n",
    "duplicate_user_cnt = user_cnt[0:endidx]\n",
    "duplicate_user_cnt   \n",
    "## Identify 70 duplicated user_id with their duplicate counts"
   ]
  },
  {
   "cell_type": "markdown",
   "id": "d06ca7c0",
   "metadata": {},
   "source": [
    "####  Data Quality Examine for the Brands dataset\n",
    "     - Check if there is any missing values for key fields like barcode and brand_id\n",
    "     - Check if there is any duplicate brand_id, barcode and identify them"
   ]
  },
  {
   "cell_type": "code",
   "execution_count": 19,
   "id": "0c53eb14",
   "metadata": {},
   "outputs": [
    {
     "data": {
      "text/plain": [
       "0"
      ]
     },
     "execution_count": 19,
     "metadata": {},
     "output_type": "execute_result"
    }
   ],
   "source": [
    "brands['brand_id'].isnull().sum()  ## no null value for brand_id"
   ]
  },
  {
   "cell_type": "code",
   "execution_count": 20,
   "id": "99c9b56b",
   "metadata": {},
   "outputs": [
    {
     "data": {
      "text/plain": [
       "0"
      ]
     },
     "execution_count": 20,
     "metadata": {},
     "output_type": "execute_result"
    }
   ],
   "source": [
    "brands['barcode'].isnull().sum()  ## no null value for barcode"
   ]
  },
  {
   "cell_type": "code",
   "execution_count": 21,
   "id": "8cfd25f1",
   "metadata": {},
   "outputs": [
    {
     "data": {
      "text/plain": [
       "brand_id\n",
       "5332f5ebe4b03c9a25efd0a7    1\n",
       "5f4a7a5dbe37ce2d95e65ca3    1\n",
       "5f493e72be37ce64d0ae36c3    1\n",
       "5f493e72be37ce64d0ae36c1    1\n",
       "5f493dacbe37ce64d0ae36bf    1\n",
       "                           ..\n",
       "5a5d26c7e4b06ba572cf24a5    1\n",
       "5a5d2695e4b0db471c2d042d    1\n",
       "5a5d263ee4b06ba572cf24a4    1\n",
       "5a5d25b6e4b0db471c2d042c    1\n",
       "6026d757be37ce6369301468    1\n",
       "Length: 1167, dtype: int64"
      ]
     },
     "execution_count": 21,
     "metadata": {},
     "output_type": "execute_result"
    }
   ],
   "source": [
    "brand_cnt = brands.groupby('brand_id').size().sort_values(ascending = False)\n",
    "brand_cnt\n",
    "## no duplicate brand_id"
   ]
  },
  {
   "cell_type": "code",
   "execution_count": 22,
   "id": "5adf4b24",
   "metadata": {},
   "outputs": [
    {
     "data": {
      "text/plain": [
       "barcode\n",
       "511111504139    2\n",
       "511111305125    2\n",
       "511111704140    2\n",
       "511111605058    2\n",
       "511111004790    2\n",
       "               ..\n",
       "511111303893    1\n",
       "511111303732    1\n",
       "511111303664    1\n",
       "511111303503    1\n",
       "511111919803    1\n",
       "Length: 1160, dtype: int64"
      ]
     },
     "execution_count": 22,
     "metadata": {},
     "output_type": "execute_result"
    }
   ],
   "source": [
    "barcode_cnt = brands.groupby('barcode').size().sort_values(ascending = False)\n",
    "barcode_cnt\n",
    "## There are some duplicate barcodes"
   ]
  },
  {
   "cell_type": "code",
   "execution_count": 23,
   "id": "aad6383c",
   "metadata": {},
   "outputs": [
    {
     "data": {
      "text/plain": [
       "299     511111504139\n",
       "412     511111504788\n",
       "536     511111204923\n",
       "651     511111305125\n",
       "1012    511111605058\n",
       "1015    511111704140\n",
       "1071    511111004790\n",
       "Name: barcode, dtype: int64"
      ]
     },
     "execution_count": 23,
     "metadata": {},
     "output_type": "execute_result"
    }
   ],
   "source": [
    "brands.loc[brands['barcode'].duplicated() == True, 'barcode']\n",
    "## Identify 7 duplicate barcodes"
   ]
  },
  {
   "cell_type": "markdown",
   "id": "403b6554",
   "metadata": {},
   "source": [
    " - **Summary of Findings**\n",
    "     - There are many duplicates for the user_id in table Users and a few duplicates of barcode for table Brands.\n",
    "         - The duplicate results may lead to inaccurate report in future query or analysis.\n",
    "     - Also, there are 148 userID appears in table Receipts but not appear in Users's table. \n",
    "         - In this case, when we query between the Users table and Receipts table, we may lost some information. \n",
    " \n",
    " - **Future Improvement**\n",
    "     - Clearly, many datetime data was missing, in future, Maybe we should check if we are missing date information from on some dates or during some periods.\n",
    "     - Also, may be we should check if all the barcode in table Receipts presents in table Brands."
   ]
  }
 ],
 "metadata": {
  "kernelspec": {
   "display_name": "Python 3 (ipykernel)",
   "language": "python",
   "name": "python3"
  },
  "language_info": {
   "codemirror_mode": {
    "name": "ipython",
    "version": 3
   },
   "file_extension": ".py",
   "mimetype": "text/x-python",
   "name": "python",
   "nbconvert_exporter": "python",
   "pygments_lexer": "ipython3",
   "version": "3.9.7"
  }
 },
 "nbformat": 4,
 "nbformat_minor": 5
}
